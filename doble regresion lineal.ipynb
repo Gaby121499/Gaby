{
 "cells": [
  {
   "cell_type": "code",
   "execution_count": 1,
   "metadata": {},
   "outputs": [
    {
     "name": "stdout",
     "output_type": "stream",
     "text": [
      "Introduce a value for n2\n",
      "Value of x:3\n",
      "Value of y:6\n",
      "Value of second x:5\n",
      "Value of second y:5\n",
      "Value of x:2\n",
      "Value of y:2\n",
      "Value of second x:2\n",
      "Value of second y:2\n",
      "The first equation is: y=-6.0+(4.0x)\n",
      "The second equation is: y=0.0+(1.0x)\n",
      "Introduce the values for the prediction that you want: 3\n",
      "second device arrives first\n"
     ]
    }
   ],
   "source": [
    "n1=int(input('Introduce a value for n'))\n",
    "n2=1\n",
    "sumax=0\n",
    "sumay=0\n",
    "sumaxy=0\n",
    "sumasx=0\n",
    "sumasy=0\n",
    "sumasxy=0\n",
    "listax=[]\n",
    "listay=[]\n",
    "listasx=[]\n",
    "listasy=[]\n",
    "sumatoriaxcuadrada=0\n",
    "ssumatoriaxcuadrada=0\n",
    "\n",
    "while n2<=n1:\n",
    "    n3=float(input('Value of x:'))\n",
    "    n4=float(input('Value of y:'))    \n",
    "    n5=float(input('Value of second x:'))\n",
    "    n6=float(input('Value of second y:'))\n",
    "    listax.append(n3)\n",
    "    listay.append(n4)\n",
    "    sumax=sumax+n3\n",
    "    sumay=sumay+n4\n",
    "    multiplicacionxy=n3*n4\n",
    "    sumaxy=sumaxy+multiplicacionxy\n",
    "    sumatoriaxcuadrada=sumatoriaxcuadrada+(n3**2)\n",
    "\n",
    "    listasx.append(n5)\n",
    "    listasy.append(n6)\n",
    "    sumasx=sumasx+n5\n",
    "    sumasy=sumasy+n6\n",
    "    multiplicacionsxy=n5*n6\n",
    "    sumasxy=sumasxy+multiplicacionsxy\n",
    "    ssumatoriaxcuadrada=ssumatoriaxcuadrada+(n5**2)\n",
    "    n2=n2+1\n",
    "sumaxalcuadrado=sumax**2\n",
    "ssumaxalcuadrado=sumasx**2\n",
    "\n",
    "\n",
    "b1=((n1*sumaxy)-(sumax*sumay))/((n1*sumatoriaxcuadrada)-sumaxalcuadrado)\n",
    "b0=(sumay-(b1*sumax))/n1\n",
    "sb1=((n1*sumasxy)-(sumasx*sumasy))/((n1*ssumatoriaxcuadrada)-ssumaxalcuadrado)\n",
    "sb0=(sumasy-(sb1*sumasx))/n1\n",
    "print(f'The first equation is: y={b0}+({b1}x)')\n",
    "print(f'The second equation is: y={sb0}+({sb1}x)')\n",
    "prediccionx=int(input('Introduce the values for the prediction that you want: '))\n",
    "prediccion1=b0+b1*prediccionx\n",
    "prediccion2=sb0+sb1*prediccionx\n",
    "if prediccion1>prediccion2:\n",
    "    print(\"second device arrives first\")\n",
    "if prediccion1<prediccion2:\n",
    "    print(\"first device arrives first\")\n"
   ]
  },
  {
   "cell_type": "code",
   "execution_count": null,
   "metadata": {},
   "outputs": [],
   "source": []
  }
 ],
 "metadata": {
  "kernelspec": {
   "display_name": "Python 3",
   "language": "python",
   "name": "python3"
  },
  "language_info": {
   "codemirror_mode": {
    "name": "ipython",
    "version": 3
   },
   "file_extension": ".py",
   "mimetype": "text/x-python",
   "name": "python",
   "nbconvert_exporter": "python",
   "pygments_lexer": "ipython3",
   "version": "3.7.3"
  }
 },
 "nbformat": 4,
 "nbformat_minor": 2
}
