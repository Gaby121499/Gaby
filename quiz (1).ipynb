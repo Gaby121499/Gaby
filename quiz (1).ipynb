{
 "cells": [
  {
   "cell_type": "code",
   "execution_count": 6,
   "metadata": {},
   "outputs": [
    {
     "name": "stdout",
     "output_type": "stream",
     "text": [
      "How many values are you going to use?6\n",
      "Introduce x1: 9\n",
      "Introduce y1: 6\n",
      "Introduce x2: 5\n",
      "Introduce y2: 3\n",
      "Introduce x3: 4\n",
      "Introduce y3: 1\n",
      "Introduce x4: 8\n",
      "Introduce y4: 7\n",
      "Introduce x5: 9\n",
      "Introduce y5: 2\n",
      "Introduce x6: 1\n",
      "Introduce y6: 3\n",
      "\n",
      "Linear Regression: \n",
      "\n",
      "y = 0.0+3.0x\n"
     ]
    }
   ],
   "source": [
    "sum_x=0\n",
    "sum_y=0\n",
    "sum_xy=0\n",
    "sum_x2=0\n",
    "\n",
    "n= int(input(\"How many values are you going to use?\"))\n",
    "\n",
    "for i in range (0,n):\n",
    "    x = int(input(f\"Introduce x{i+1}: \"))\n",
    "    y = int(input(f\"Introduce y{i+1}: \"))\n",
    "\n",
    "sum_x += x\n",
    "sum_y += y\n",
    "sum_xy += x*y\n",
    "sum_x2 += (x**2)\n",
    "\n",
    "b1=(n*sum_xy - sum_x*sum_y)/(n*sum_x2 - sum_x**2)\n",
    "b0=(sum_y - b1*sum_x)/n\n",
    "\n",
    "if b1<0:\n",
    "    print(f\"\\nLinear Regression: \\n\\ny = {b0}{b1}x\")\n",
    "else:\n",
    "    print(f\"\\nLinear Regression: \\n\\ny = {b0}+{b1}x\")\n",
    "             "
   ]
  },
  {
   "cell_type": "code",
   "execution_count": null,
   "metadata": {},
   "outputs": [],
   "source": []
  },
  {
   "cell_type": "code",
   "execution_count": null,
   "metadata": {},
   "outputs": [],
   "source": []
  }
 ],
 "metadata": {
  "kernelspec": {
   "display_name": "Python 3",
   "language": "python",
   "name": "python3"
  },
  "language_info": {
   "codemirror_mode": {
    "name": "ipython",
    "version": 3
   },
   "file_extension": ".py",
   "mimetype": "text/x-python",
   "name": "python",
   "nbconvert_exporter": "python",
   "pygments_lexer": "ipython3",
   "version": "3.7.3"
  }
 },
 "nbformat": 4,
 "nbformat_minor": 2
}
