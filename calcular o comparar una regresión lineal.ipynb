{
 "cells": [
  {
   "cell_type": "code",
   "execution_count": null,
   "metadata": {},
   "outputs": [
    {
     "name": "stdout",
     "output_type": "stream",
     "text": [
      "Calcule and compare the Linear Regression \n"
     ]
    }
   ],
   "source": [
    "print(\"Calcule and compare the Linear Regression \")\n",
    "w=int(input(\"Chose if you want to comparate or calculate \\n 1.- Calculate \\n 2.- Comparate \\n: \"))\n",
    "sumx=0\n",
    "sumy=0\n",
    "sumxy=0\n",
    "sum2=0\n",
    "sumx2=0\n",
    "sumy2=0\n",
    "sumxy2=0\n",
    "sum22=0\n",
    "sumx1=0\n",
    "sumy1=0\n",
    "sumxy1=0\n",
    "sum21=0\n",
    "n=int(input(\"Introduce the data size: \"))\n",
    "\n",
    "if w == 2:\n",
    "     re=float(input(\"Which temperature do you want to reach : \"))\n",
    "     while (w==2):\n",
    "        for a in range(0,n):\n",
    "                x=float(input(f\"Introduce the value of x{a+1}: \"))\n",
    "                y=float(input(f\"Introduce the value of y{a+1}: \"))\n",
    "                sumx+=x\n",
    "                sumy+=y\n",
    "                sumxy+=x*y\n",
    "                sum2+=x**2\n",
    "        b1=(n*sumxy - sumx*sumy)/(n*sum2 - sumx**2)\n",
    "        b0=(sumy - b1*sumx)/n\n",
    "        rg=b1+(b0*sumx)\n",
    "        print(\"The Linear Regression A is :\",rg)\n",
    "        print(\"\\nLinear Regression B\")\n",
    "        m=int(input(\"Introduce de data size :\"))\n",
    "        \n",
    "        for b in range(0,n):\n",
    "                x1=float(input(f\"Introduce the value of x{b+1}: \"))\n",
    "                y1=float(input(f\"Introduce the value of y{b+1}: \"))\n",
    "                sumx2+=x1\n",
    "                sumy2+=y1\n",
    "                sumxy2+=x1*y1\n",
    "                sum22+=x1**2\n",
    "        b12=(m*sumxy2 - sumx2*sumy2)/(m*sum22 - sumx2**2)\n",
    "        b02=(sumy2 - b12*sumx2)/m\n",
    "        rg2=b12+(b02*sumx2)\n",
    "        print(\"The Linear Regression B is :\",rg)  \n",
    "        w=w-2\n",
    "else:           \n",
    "    for c in range (0,n):\n",
    "        x2=float(input(f\"\\nIntroduce the value of x{c+1}: \"))\n",
    "        y2=float(input(f\"\\nIntroduce the value of y{c+1}: \"))\n",
    "        sumx1+=x2\n",
    "        sumy1+=y2\n",
    "        sumxy1+=x2*y2\n",
    "        sum21+=x2*2\n",
    "    b11=(n*sumxy1 - sumx1*sumy1)/(n*sum21 - sumx1**2)\n",
    "    b01=(sumy1 -b11*sumx1)/n\n",
    "    rg3=b11+(b01*sumx1)\n",
    "    \n",
    "if rg>rg2:\n",
    "    print(\"\\nThe A Linear Regression is the first to reach the \",re)\n",
    "elif rg2>rg:\n",
    "    print(\"\\nThe B Linear Regression is the first to reach the \",re)\n",
    "else:\n",
    "    print(\"The linear Regression is :\",rg3)"
   ]
  }
 ],
 "metadata": {
  "kernelspec": {
   "display_name": "Python 3",
   "language": "python",
   "name": "python3"
  },
  "language_info": {
   "codemirror_mode": {
    "name": "ipython",
    "version": 3
   },
   "file_extension": ".py",
   "mimetype": "text/x-python",
   "name": "python",
   "nbconvert_exporter": "python",
   "pygments_lexer": "ipython3",
   "version": "3.7.3"
  }
 },
 "nbformat": 4,
 "nbformat_minor": 2
}
